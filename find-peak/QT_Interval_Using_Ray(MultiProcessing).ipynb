{
 "cells": [
  {
   "cell_type": "code",
   "execution_count": null,
   "metadata": {},
   "outputs": [],
   "source": [
    "import pandas as pd\n",
    "import numpy as np\n",
    "import psutil\n",
    "import ray"
   ]
  },
  {
   "cell_type": "code",
   "execution_count": null,
   "metadata": {},
   "outputs": [],
   "source": [
    "import neurokit2 as nk\n",
    "import matplotlib.pyplot as plt\n",
    "import pywt\n",
    "import scipy\n",
    "from tqdm import tqdm\n",
    "from scipy import signal\n",
    "import scipy.signal\n",
    "from scipy.signal import butter, iirnotch, lfilter"
   ]
  },
  {
   "cell_type": "code",
   "execution_count": null,
   "metadata": {},
   "outputs": [],
   "source": [
    "df_test = pd.read_csv('/smc_work/code/SMC_shea/csv_files/df_test.csv',encoding='utf-8-sig')"
   ]
  },
  {
   "cell_type": "code",
   "execution_count": null,
   "metadata": {},
   "outputs": [],
   "source": [
    "# QT 버전\n",
    "columns = [\n",
    "           'Q_amplitude_mean','Q_amplitude_median','Q_amplitude_std','Q_amplitude_min','Q_amplitude_max',\\\n",
    "           'T_amplitude_mean','T_amplitude_median','T_amplitude_std','T_amplitude_min','T_amplitude_max',\\\n",
    "           'QQ_interval_mean','QQ_interval_median','QQ_interval_std','QQ_interval_min','QQ_interval_max',\\\n",
    "           'TT_interval_mean','TT_interval_median','TT_interval_std','TT_interval_min','TT_interval_max',\\\n",
    "           'QT_interval_mean','QT_interval_median','QT_interval_std','QT_interval_min','QT_interval_max',\\\n",
    "          ]\n",
    "\n",
    "df_test_wave = pd.DataFrame(columns = columns)"
   ]
  },
  {
   "cell_type": "code",
   "execution_count": null,
   "metadata": {},
   "outputs": [],
   "source": [
    "ecg_array = {}"
   ]
  },
  {
   "cell_type": "code",
   "execution_count": null,
   "metadata": {},
   "outputs": [],
   "source": [
    "def bandpass(lowcut, highcut, order=5):\n",
    "    nyq = 0.5 * 500\n",
    "    low = lowcut / nyq\n",
    "    high = highcut / nyq\n",
    "    b, a = butter(order, [low, high], btype='band')\n",
    "    return b, a"
   ]
  },
  {
   "cell_type": "code",
   "execution_count": null,
   "metadata": {
    "scrolled": true
   },
   "outputs": [],
   "source": [
    "num_cpus = psutil.cpu_count(logical=False)"
   ]
  },
  {
   "cell_type": "code",
   "execution_count": null,
   "metadata": {},
   "outputs": [],
   "source": [
    "ray.init(num_cpus=num_cpus)"
   ]
  },
  {
   "cell_type": "code",
   "execution_count": null,
   "metadata": {},
   "outputs": [],
   "source": [
    "batch = 500\n",
    "unique_id_dict = {}\n",
    "start = 0\n",
    "for i in range(num_cpus):\n",
    "    unique_id_dict[i] = df_test['unique_id'][start:start+batch].values.tolist()\n",
    "    start += batch"
   ]
  },
  {
   "cell_type": "code",
   "execution_count": null,
   "metadata": {},
   "outputs": [],
   "source": [
    "@ray.remote\n",
    "def find_peak(df_unique_id):\n",
    "    i = 0\n",
    "    for unique_id in tqdm(df_unique_id):\n",
    "\n",
    "        ecg_array[unique_id] = {}\n",
    "\n",
    "        ecg_wave = np.load('/smc_work/data/smc_numpy_data/II/'+unique_id+'.npy')\n",
    "\n",
    "        b , a = bandpass(0.5, 45)\n",
    "        filtered_ecg = signal.filtfilt(b,a,ecg_wave)\n",
    "\n",
    "        _, rpeaks = nk.ecg_peaks(filtered_ecg, sampling_rate=500)\n",
    "        _, waves_peak = nk.ecg_delineate(filtered_ecg, rpeaks, sampling_rate=500, method=\"peak\")\n",
    "        try:\n",
    "            _, waves_cwt = nk.ecg_delineate(filtered_ecg, rpeaks, sampling_rate=500, method=\"cwt\", show=False, show_type='peaks')\n",
    "        except :\n",
    "            _, waves_cwt = nk.ecg_delineate(filtered_ecg, rpeaks, sampling_rate=500, method=\"dwt\", show=False, show_type='peaks')\n",
    "\n",
    "        waves_cwt['ECG_QQ_interval'] =  np.diff(waves_cwt['ECG_Q_Peaks']).tolist() ## Q-Q interval\n",
    "        waves_cwt['ECG_TT_interval'] =  np.diff(waves_cwt['ECG_T_Peaks']).tolist() ## T-T interval\n",
    "        T_len = len(waves_cwt['ECG_T_Peaks'])\n",
    "        Q_len = len(waves_cwt['ECG_Q_Peaks'])\n",
    "        if(T_len == Q_len):\n",
    "            waves_cwt['ECG_QT_interval'] = (rpeaks['ECG_T_Peaks'] - waves_cwt['ECG_Q_Peaks']).tolist() ## Q-T interval\n",
    "        elif(T_len == Q_len + 1):\n",
    "            waves_cwt['ECG_QT_interval'] = (rpeaks['ECG_T_Peaks'][1:] - waves_cwt['ECG_Q_Peaks']).tolist() ## Q-T interval\n",
    "\n",
    "\n",
    "        q_amplitude_array = np.array(waves_cwt['ECG_Q_Peaks'])\n",
    "        q_amplitude_list = q_amplitude_array[~np.isnan(q_amplitude_array)].astype(int).tolist()\n",
    "\n",
    "        if(len(q_amplitude_list)>0):\n",
    "            ecg_array[unique_id]['Q_amplitude_mean'] = np.nanmean(ecg_wave[q_amplitude_list])\n",
    "            ecg_array[unique_id]['Q_amplitude_median']  = np.nanmedian(ecg_wave[q_amplitude_list])\n",
    "            ecg_array[unique_id]['Q_amplitude_std'] = np.nanstd(ecg_wave[q_amplitude_list])\n",
    "            ecg_array[unique_id]['Q_amplitude_min'] = np.nanmin(ecg_wave[q_amplitude_list])\n",
    "            ecg_array[unique_id]['Q_amplitude_max'] = np.nanmax(ecg_wave[q_amplitude_list])\n",
    "\n",
    "        t_amplitude_array = np.array(waves_cwt['ECG_T_Peaks'])\n",
    "        t_amplitude_list = t_amplitude_array[~np.isnan(t_amplitude_array)].astype(int).tolist()\n",
    "\n",
    "        if(len(t_amplitude_list)>0):\n",
    "\n",
    "            ecg_array[unique_id]['T_amplitude_mean'] = np.nanmean(ecg_wave[t_amplitude_list])\n",
    "            ecg_array[unique_id]['T_amplitude_median']  = np.nanmedian(ecg_wave[t_amplitude_list])\n",
    "            ecg_array[unique_id]['T_amplitude_std'] = np.nanstd(ecg_wave[t_amplitude_list])\n",
    "            ecg_array[unique_id]['T_amplitude_min'] = np.nanmin(ecg_wave[t_amplitude_list])\n",
    "            ecg_array[unique_id]['T_amplitude_max'] = np.nanmax(ecg_wave[t_amplitude_list])\n",
    "\n",
    "\n",
    "        ecg_array[unique_id]['QQ_interval_mean'] = np.nanmean(waves_cwt['ECG_QQ_interval'])\n",
    "        ecg_array[unique_id]['QQ_interval_median'] = np.nanmedian(waves_cwt['ECG_QQ_interval'])\n",
    "        ecg_array[unique_id]['QQ_interval_std'] = np.nanstd(waves_cwt['ECG_QQ_interval'])\n",
    "        ecg_array[unique_id]['QQ_interval_min'] = np.nanmin(waves_cwt['ECG_QQ_interval'])\n",
    "        ecg_array[unique_id]['QQ_interval_max'] = np.nanmax(waves_cwt['ECG_QQ_interval'])\n",
    "\n",
    "        ecg_array[unique_id]['TT_interval_mean'] = np.nanmean(waves_cwt['ECG_TT_interval'])\n",
    "        ecg_array[unique_id]['TT_interval_median'] = np.nanmedian(waves_cwt['ECG_TT_interval'])\n",
    "        ecg_array[unique_id]['TT_interval_std'] = np.nanstd(waves_cwt['ECG_TT_interval'])\n",
    "        ecg_array[unique_id]['TT_interval_min'] = np.nanmin(waves_cwt['ECG_TT_interval'])\n",
    "        ecg_array[unique_id]['TT_interval_max'] = np.nanmax(waves_cwt['ECG_TT_interval'])\n",
    "\n",
    "        #ecg_array[unique_id]['label'] = df_train[df_train['unique_id']==unique_id]['label'][i]\n",
    "        \n",
    "        if( i % 19 == 0):\n",
    "            plt.cla() # Clear the current axes\n",
    "            plt.clf() # Clear the current figure\n",
    "            plt.close()\n",
    "        i += 1\n",
    "    return ecg_array\n",
    "\n",
    "futures = [find_peak.remote(unique_id_dict[i]) for i in range(num_cpus)]\n",
    "\n",
    "results = ray.get(futures)"
   ]
  },
  {
   "cell_type": "code",
   "execution_count": null,
   "metadata": {},
   "outputs": [],
   "source": [
    "results"
   ]
  },
  {
   "cell_type": "code",
   "execution_count": null,
   "metadata": {},
   "outputs": [],
   "source": [
    "res = {}\n",
    "for i in range(len(results)):\n",
    "    res.update(results[i])"
   ]
  },
  {
   "cell_type": "code",
   "execution_count": null,
   "metadata": {},
   "outputs": [],
   "source": [
    "df_test_wave = pd.DataFrame.from_dict(res)\n",
    "df_test_wave.T"
   ]
  },
  {
   "cell_type": "code",
   "execution_count": null,
   "metadata": {},
   "outputs": [],
   "source": [
    "df_test_wave.T.to_csv('./csv_files/test_qt_interval.csv',encoding='utf-8-sig')"
   ]
  }
 ],
 "metadata": {
  "kernelspec": {
   "display_name": "Python 3 (ipykernel)",
   "language": "python",
   "name": "python3"
  },
  "language_info": {
   "codemirror_mode": {
    "name": "ipython",
    "version": 3
   },
   "file_extension": ".py",
   "mimetype": "text/x-python",
   "name": "python",
   "nbconvert_exporter": "python",
   "pygments_lexer": "ipython3",
   "version": "3.9.7"
  }
 },
 "nbformat": 4,
 "nbformat_minor": 2
}
